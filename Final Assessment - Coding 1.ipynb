{
 "cells": [
  {
   "cell_type": "raw",
   "id": "f224cc93",
   "metadata": {},
   "source": [
    "Q2. You will be given a list. You have to print a list whose 1st element should be largest and 2nd should be the smallest then the 3rd should be 2nd largest and 4th should be 2nd smallest and so on.\n",
    "\n",
    "\n",
    "\n",
    "Sample Input 0:\n",
    "\n",
    "1 2 3 4 5 6\n",
    "\n",
    "Sample Output 0:\n",
    "\n",
    "6 1 5 2 4 3"
   ]
  },
  {
   "cell_type": "code",
   "execution_count": 154,
   "id": "30020bfe",
   "metadata": {},
   "outputs": [
    {
     "name": "stdout",
     "output_type": "stream",
     "text": [
      "1 2 3 4 5 6\n",
      "[6, 1, 5, 2, 4, 3]\n"
     ]
    }
   ],
   "source": [
    "i =input()\n",
    "f=i.split()\n",
    "l=list(map(int, f)) # => [1,2,3]\n",
    "l\n",
    "\n",
    "l.sort(reverse=True)\n",
    "k=[]\n",
    "o=0\n",
    "j=-1\n",
    "\n",
    "\n",
    "if len(l)%2==0:\n",
    "    h=len(l)/2\n",
    "    for i in (range(int(h))):\n",
    "        if h%2!=0:\n",
    "\n",
    "            k.append(l[o])\n",
    "            k.append(l[j])\n",
    "            o+=1\n",
    "            j-=1\n",
    "    print(k)\n",
    "else:\n",
    "    \n",
    "    h=len(l)/2\n",
    "    for i in (range(int(h)+1)):\n",
    "        if h%2!=0:\n",
    "\n",
    "            k.append(l[o])\n",
    "            k.append(l[j])\n",
    "            o+=1\n",
    "            j-=1\n",
    "            \n",
    "    k.pop()\n",
    "    \n",
    "    print(k)\n",
    "    \n"
   ]
  },
  {
   "cell_type": "code",
   "execution_count": null,
   "id": "14da17d6",
   "metadata": {},
   "outputs": [],
   "source": []
  }
 ],
 "metadata": {
  "kernelspec": {
   "display_name": "Python 3 (ipykernel)",
   "language": "python",
   "name": "python3"
  },
  "language_info": {
   "codemirror_mode": {
    "name": "ipython",
    "version": 3
   },
   "file_extension": ".py",
   "mimetype": "text/x-python",
   "name": "python",
   "nbconvert_exporter": "python",
   "pygments_lexer": "ipython3",
   "version": "3.9.12"
  }
 },
 "nbformat": 4,
 "nbformat_minor": 5
}
